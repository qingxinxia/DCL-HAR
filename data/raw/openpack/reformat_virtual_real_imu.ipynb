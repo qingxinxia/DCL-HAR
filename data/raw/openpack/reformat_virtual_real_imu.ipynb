{
 "cells": [
  {
   "cell_type": "code",
   "execution_count": 1,
   "id": "initial_id",
   "metadata": {
    "collapsed": true,
    "ExecuteTime": {
     "end_time": "2024-05-06T08:51:17.983867Z",
     "start_time": "2024-05-06T08:51:17.971919900Z"
    }
   },
   "outputs": [],
   "source": [
    "# check sampling rate of virtual and real imu data is same\n",
    "# resample virtual data"
   ]
  },
  {
   "cell_type": "code",
   "outputs": [],
   "source": [
    "import os\n",
    "import numpy as np\n"
   ],
   "metadata": {
    "collapsed": false,
    "ExecuteTime": {
     "end_time": "2024-05-06T09:02:04.049156500Z",
     "start_time": "2024-05-06T09:02:03.809068100Z"
    }
   },
   "id": "73916504471da30b",
   "execution_count": 3
  },
  {
   "cell_type": "code",
   "outputs": [
    {
     "data": {
      "text/plain": "'D:\\\\code\\\\DeepConvLSTM-Pytorch\\\\data\\\\raw\\\\openpack'"
     },
     "execution_count": 4,
     "metadata": {},
     "output_type": "execute_result"
    }
   ],
   "source": [
    "os.getcwd()"
   ],
   "metadata": {
    "collapsed": false,
    "ExecuteTime": {
     "end_time": "2024-05-06T09:02:04.094911500Z",
     "start_time": "2024-05-06T09:02:04.086945600Z"
    }
   },
   "id": "9a5a71d7f9d0d3fa",
   "execution_count": 4
  },
  {
   "cell_type": "code",
   "outputs": [
    {
     "name": "stdout",
     "output_type": "stream",
     "text": [
      "D:\\code\\DeepConvLSTM-Pytorch\\data\\raw\\openpack\\CNNMLP_seg_openpack_testset_U0201_epoch_99\n"
     ]
    }
   ],
   "source": [
    "user = 'U0201'\n",
    "data_folder = os.path.join(os.getcwd(), r'CNNMLP_seg_openpack_testset_%s_epoch_99'%user)\n",
    "print(data_folder)"
   ],
   "metadata": {
    "collapsed": false,
    "ExecuteTime": {
     "end_time": "2024-05-06T09:03:22.179098700Z",
     "start_time": "2024-05-06T09:03:22.148232600Z"
    }
   },
   "id": "45a43f58b1ef0783",
   "execution_count": 5
  },
  {
   "cell_type": "code",
   "outputs": [],
   "source": [
    "# with open(os.path.join(data_folder, 'GTimu_seg.npy'), 'rb') as f:\n",
    "with open(os.path.join(data_folder, 'pred_acc_seg.npy'), 'rb') as f:\n",
    "    acc = np.load(f)\n",
    "with open(os.path.join(data_folder, 'pred_gyro_seg.npy'), 'rb') as f:\n",
    "    gyr = np.load(f)\n",
    "data = np.concatenate((acc, gyr), axis=2)\n",
    "reshapedata = data.reshape(-1, data.shape[-1])"
   ],
   "metadata": {
    "collapsed": false,
    "ExecuteTime": {
     "end_time": "2024-05-06T10:18:49.968299700Z",
     "start_time": "2024-05-06T10:18:49.948423200Z"
    }
   },
   "id": "a2542f2632e96601",
   "execution_count": 31
  },
  {
   "cell_type": "code",
   "outputs": [
    {
     "data": {
      "text/plain": "(35520, 12)"
     },
     "execution_count": 32,
     "metadata": {},
     "output_type": "execute_result"
    }
   ],
   "source": [
    "reshapedata.shape"
   ],
   "metadata": {
    "collapsed": false,
    "ExecuteTime": {
     "end_time": "2024-05-06T10:18:53.011391300Z",
     "start_time": "2024-05-06T10:18:52.999444300Z"
    }
   },
   "id": "2e1c908c938fc2ec",
   "execution_count": 32
  },
  {
   "cell_type": "code",
   "outputs": [],
   "source": [
    "with open(os.path.join(data_folder, 'pred_label_seg.npy'), 'rb') as f:\n",
    "    label = np.load(f, allow_pickle=True)"
   ],
   "metadata": {
    "collapsed": false,
    "ExecuteTime": {
     "end_time": "2024-05-06T10:17:38.700977600Z",
     "start_time": "2024-05-06T10:17:38.678079300Z"
    }
   },
   "id": "53cb6d289d7ba852",
   "execution_count": 29
  },
  {
   "cell_type": "code",
   "outputs": [
    {
     "data": {
      "text/plain": "(35520,)"
     },
     "execution_count": 30,
     "metadata": {},
     "output_type": "execute_result"
    }
   ],
   "source": [
    "label.shape"
   ],
   "metadata": {
    "collapsed": false,
    "ExecuteTime": {
     "end_time": "2024-05-06T10:17:39.336344100Z",
     "start_time": "2024-05-06T10:17:39.308467800Z"
    }
   },
   "id": "dbd49d34b0087efb",
   "execution_count": 30
  },
  {
   "cell_type": "code",
   "outputs": [],
   "source": [
    "# 由于virtual data只是作为真实数据的补充，所以直接upsampling两倍就好了"
   ],
   "metadata": {
    "collapsed": false,
    "ExecuteTime": {
     "end_time": "2024-05-06T09:40:47.919089700Z",
     "start_time": "2024-05-06T09:40:47.885221500Z"
    }
   },
   "id": "f4b5b4276cdf4ab3",
   "execution_count": 12
  },
  {
   "cell_type": "code",
   "outputs": [],
   "source": [],
   "metadata": {
    "collapsed": false
   },
   "id": "e23df269966de1c6"
  }
 ],
 "metadata": {
  "kernelspec": {
   "display_name": "Python 3",
   "language": "python",
   "name": "python3"
  },
  "language_info": {
   "codemirror_mode": {
    "name": "ipython",
    "version": 2
   },
   "file_extension": ".py",
   "mimetype": "text/x-python",
   "name": "python",
   "nbconvert_exporter": "python",
   "pygments_lexer": "ipython2",
   "version": "2.7.6"
  }
 },
 "nbformat": 4,
 "nbformat_minor": 5
}
