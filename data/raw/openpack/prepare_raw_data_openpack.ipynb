{
 "cells": [
  {
   "cell_type": "code",
   "execution_count": 1,
   "id": "initial_id",
   "metadata": {
    "collapsed": true,
    "ExecuteTime": {
     "end_time": "2024-04-26T13:56:40.842286700Z",
     "start_time": "2024-04-26T13:56:40.835365700Z"
    }
   },
   "outputs": [],
   "source": [
    "# 1 get accelerometer and gyroscope and operation labels\n",
    "# 2 resample the data according to size of video frames\n",
    "\n",
    "# https://open-pack.github.io/gallery/modality/\n",
    "# atr01:right hand, atr02:left hand"
   ]
  },
  {
   "cell_type": "markdown",
   "source": [
    "# 1 get accelerometer and gyroscope and operation labels"
   ],
   "metadata": {
    "collapsed": false
   },
   "id": "6579488095be52ea"
  },
  {
   "cell_type": "code",
   "outputs": [],
   "source": [
    "import os\n",
    "import csv\n",
    "import numpy as np\n",
    "import pandas as pd\n",
    "from datetime import datetime\n",
    "# \n",
    "\n"
   ],
   "metadata": {
    "collapsed": false,
    "ExecuteTime": {
     "end_time": "2024-05-15T18:06:26.140370Z",
     "start_time": "2024-05-15T18:06:22.594864400Z"
    }
   },
   "id": "58e431020de4213c",
   "execution_count": 1
  },
  {
   "cell_type": "code",
   "outputs": [
    {
     "data": {
      "text/plain": "'D:\\\\code\\\\DeepConvLSTM-Pytorch\\\\data\\\\raw\\\\openpack'"
     },
     "execution_count": 2,
     "metadata": {},
     "output_type": "execute_result"
    }
   ],
   "source": [
    "os.getcwd()"
   ],
   "metadata": {
    "collapsed": false,
    "ExecuteTime": {
     "end_time": "2024-05-15T18:06:26.191145800Z",
     "start_time": "2024-05-15T18:06:26.146344400Z"
    }
   },
   "id": "ea21118a1a00cd76",
   "execution_count": 2
  },
  {
   "cell_type": "code",
   "outputs": [],
   "source": [
    "# read raw sensor(acc,gyro) data and label\n",
    "user = 'U0101'\n",
    "scenarios = ['S0100', 'S0200','S0300','S0400','S0500']\n",
    "labellist, rimulist, limulist = [],[],[]\n",
    "for scenario in scenarios:\n",
    "    label_path = r'%s\\annotation\\activity-1s\\%s.csv' % (user, scenario)\n",
    "    # label_path = r'%s\\annotation\\openpack-operations\\%s.csv' % (user, scenario)\n",
    "    tfull_label = pd.read_csv(label_path)\n",
    "    \n",
    "    rIMU_path = r'%s\\atr\\atr01\\%s.csv' % (user, scenario)\n",
    "    trIMU = pd.read_csv(rIMU_path)\n",
    "    \n",
    "    lIMU_path = r'%s\\atr\\atr02\\%s.csv' % (user, scenario)\n",
    "    tlIMU = pd.read_csv(lIMU_path)\n",
    "    labellist.append(tfull_label)\n",
    "    rimulist.append(trIMU)\n",
    "    limulist.append(tlIMU)\n",
    "full_label = pd.concat(labellist)\n",
    "rIMU = pd.concat(rimulist)\n",
    "lIMU = pd.concat(limulist)\n"
   ],
   "metadata": {
    "collapsed": false,
    "ExecuteTime": {
     "end_time": "2024-05-15T18:13:38.523186300Z",
     "start_time": "2024-05-15T18:13:37.482772100Z"
    }
   },
   "id": "f9971104450480e0",
   "execution_count": 4
  },
  {
   "cell_type": "code",
   "outputs": [
    {
     "data": {
      "text/plain": "9108"
     },
     "execution_count": 5,
     "metadata": {},
     "output_type": "execute_result"
    }
   ],
   "source": [
    "len(full_label)"
   ],
   "metadata": {
    "collapsed": false,
    "ExecuteTime": {
     "end_time": "2024-05-15T18:13:46.173976Z",
     "start_time": "2024-05-15T18:13:46.126182900Z"
    }
   },
   "id": "4d1ed0af73bc8a36",
   "execution_count": 5
  },
  {
   "cell_type": "code",
   "outputs": [
    {
     "data": {
      "text/plain": "276607"
     },
     "execution_count": 6,
     "metadata": {},
     "output_type": "execute_result"
    }
   ],
   "source": [
    "len(rIMU)"
   ],
   "metadata": {
    "collapsed": false,
    "ExecuteTime": {
     "end_time": "2024-05-15T18:13:53.039592500Z",
     "start_time": "2024-05-15T18:13:53.010720300Z"
    }
   },
   "id": "a6b327abb2d8258c",
   "execution_count": 6
  },
  {
   "cell_type": "code",
   "outputs": [
    {
     "data": {
      "text/plain": "                                      uuid   user session  box   id  \\\n0  op:f59ab8a0-6d65-5ec3-b2af-eae1a8f00d6c  U0210   S0100    1  100   \n1  op:6e35aef3-aae8-5b5f-a316-62820def97cb  U0210   S0100    1  200   \n\n             operation                             start  \\\n0              Picking  2022-04-01 09:38:13.146000+09:00   \n1  Relocate Item Label  2022-04-01 09:38:23.745000+09:00   \n\n                                end  \\\n0  2022-04-01 09:38:23.745000+09:00   \n1  2022-04-01 09:38:30.301000+09:00   \n\n                                             actions      startunix  \\\n0  act:a68c9b32-6b1a-52b6-bbf6-5adaf3b55377;act:4...  1648773493146   \n1  act:e511c4a9-a592-53b4-bd44-20a6b650cfc7;act:f...  1648773503745   \n\n         endunix  \n0  1648773503745  \n1  1648773510301  ",
      "text/html": "<div>\n<style scoped>\n    .dataframe tbody tr th:only-of-type {\n        vertical-align: middle;\n    }\n\n    .dataframe tbody tr th {\n        vertical-align: top;\n    }\n\n    .dataframe thead th {\n        text-align: right;\n    }\n</style>\n<table border=\"1\" class=\"dataframe\">\n  <thead>\n    <tr style=\"text-align: right;\">\n      <th></th>\n      <th>uuid</th>\n      <th>user</th>\n      <th>session</th>\n      <th>box</th>\n      <th>id</th>\n      <th>operation</th>\n      <th>start</th>\n      <th>end</th>\n      <th>actions</th>\n      <th>startunix</th>\n      <th>endunix</th>\n    </tr>\n  </thead>\n  <tbody>\n    <tr>\n      <th>0</th>\n      <td>op:f59ab8a0-6d65-5ec3-b2af-eae1a8f00d6c</td>\n      <td>U0210</td>\n      <td>S0100</td>\n      <td>1</td>\n      <td>100</td>\n      <td>Picking</td>\n      <td>2022-04-01 09:38:13.146000+09:00</td>\n      <td>2022-04-01 09:38:23.745000+09:00</td>\n      <td>act:a68c9b32-6b1a-52b6-bbf6-5adaf3b55377;act:4...</td>\n      <td>1648773493146</td>\n      <td>1648773503745</td>\n    </tr>\n    <tr>\n      <th>1</th>\n      <td>op:6e35aef3-aae8-5b5f-a316-62820def97cb</td>\n      <td>U0210</td>\n      <td>S0100</td>\n      <td>1</td>\n      <td>200</td>\n      <td>Relocate Item Label</td>\n      <td>2022-04-01 09:38:23.745000+09:00</td>\n      <td>2022-04-01 09:38:30.301000+09:00</td>\n      <td>act:e511c4a9-a592-53b4-bd44-20a6b650cfc7;act:f...</td>\n      <td>1648773503745</td>\n      <td>1648773510301</td>\n    </tr>\n  </tbody>\n</table>\n</div>"
     },
     "execution_count": 45,
     "metadata": {},
     "output_type": "execute_result"
    }
   ],
   "source": [
    "# convert start/end time in label to unix\n",
    "# timestamp_str = '2022-03-25 09:58:21.450000+09:00'\n",
    "# datetime_obj = datetime.fromisoformat(timestamp_str)\n",
    "# unix_timestamp = int(datetime_obj.timestamp() * 1000)\n",
    "full_label['startunix'] = full_label['start'].map(lambda x: int(datetime.fromisoformat(x).timestamp()*1000))\n",
    "full_label['endunix'] = full_label['end'].map(lambda x: int(datetime.fromisoformat(x).timestamp()*1000))\n",
    "full_label.head(2)"
   ],
   "metadata": {
    "collapsed": false,
    "ExecuteTime": {
     "end_time": "2024-05-01T15:14:43.834265700Z",
     "start_time": "2024-05-01T15:14:43.804397600Z"
    }
   },
   "id": "a60a9b2f40c71786",
   "execution_count": 45
  },
  {
   "cell_type": "code",
   "outputs": [],
   "source": [],
   "metadata": {
    "collapsed": false
   },
   "id": "fba3c8e8ef5dc0f2"
  },
  {
   "cell_type": "code",
   "outputs": [],
   "source": [
    "# Merging logic\n",
    "def get_label(row):\n",
    "    # Find the label for the timestamp if it falls within any range in b\n",
    "    mask = (full_label['startunix'] <= row['unixtime']) & (full_label['endunix'] >= row['unixtime'])\n",
    "    if any(mask):\n",
    "        return full_label.loc[mask, 'operation'].values[0]\n",
    "    return None"
   ],
   "metadata": {
    "collapsed": false,
    "ExecuteTime": {
     "end_time": "2024-05-01T15:14:44.063253700Z",
     "start_time": "2024-05-01T15:14:44.008498100Z"
    }
   },
   "id": "6f8b2604b89cb30b",
   "execution_count": 46
  },
  {
   "cell_type": "code",
   "outputs": [],
   "source": [
    "rIMU['label'] = rIMU.apply(get_label, axis=1)"
   ],
   "metadata": {
    "collapsed": false,
    "ExecuteTime": {
     "end_time": "2024-05-01T15:15:03.938666700Z",
     "start_time": "2024-05-01T15:14:44.213590700Z"
    }
   },
   "id": "d492f90cfb7bf30e",
   "execution_count": 47
  },
  {
   "cell_type": "code",
   "outputs": [],
   "source": [
    "lIMU['label'] = lIMU.apply(get_label, axis=1)"
   ],
   "metadata": {
    "collapsed": false,
    "ExecuteTime": {
     "end_time": "2024-05-01T15:15:23.410527100Z",
     "start_time": "2024-05-01T15:15:03.944679Z"
    }
   },
   "id": "6390dfa783400713",
   "execution_count": 48
  },
  {
   "cell_type": "code",
   "outputs": [],
   "source": [
    "# combin right left imu\n",
    "\n",
    "allIMU = pd.merge(lIMU[['unixtime', 'acc_x','acc_y', 'acc_z', 'gyro_x','gyro_y', 'gyro_z']], \n",
    "                  rIMU[['unixtime','acc_x','acc_y', 'acc_z', 'gyro_x','gyro_y', 'gyro_z', 'label']], \n",
    "                  how='inner', on='unixtime')"
   ],
   "metadata": {
    "collapsed": false,
    "ExecuteTime": {
     "end_time": "2024-05-01T15:15:23.460259Z",
     "start_time": "2024-05-01T15:15:23.425452600Z"
    }
   },
   "id": "889fb6944e9a4d7",
   "execution_count": 49
  },
  {
   "cell_type": "code",
   "outputs": [
    {
     "data": {
      "text/plain": "        unixtime  acc_x_x  acc_y_x  acc_z_x  gyro_x_x  gyro_y_x  gyro_z_x  \\\n0  1648773491010   0.2860  -0.9614   0.0677      0.48      2.19     -1.15   \n1  1648773491040   0.2866  -0.9605   0.0683      0.36      1.89     -0.97   \n\n   acc_x_y  acc_y_y  acc_z_y  gyro_x_y  gyro_y_y  gyro_z_y label  \n0   0.2462   0.9674   0.0539      0.24      1.89     -0.06  None  \n1   0.2403   0.9699   0.0540      0.12      2.01     -0.18  None  ",
      "text/html": "<div>\n<style scoped>\n    .dataframe tbody tr th:only-of-type {\n        vertical-align: middle;\n    }\n\n    .dataframe tbody tr th {\n        vertical-align: top;\n    }\n\n    .dataframe thead th {\n        text-align: right;\n    }\n</style>\n<table border=\"1\" class=\"dataframe\">\n  <thead>\n    <tr style=\"text-align: right;\">\n      <th></th>\n      <th>unixtime</th>\n      <th>acc_x_x</th>\n      <th>acc_y_x</th>\n      <th>acc_z_x</th>\n      <th>gyro_x_x</th>\n      <th>gyro_y_x</th>\n      <th>gyro_z_x</th>\n      <th>acc_x_y</th>\n      <th>acc_y_y</th>\n      <th>acc_z_y</th>\n      <th>gyro_x_y</th>\n      <th>gyro_y_y</th>\n      <th>gyro_z_y</th>\n      <th>label</th>\n    </tr>\n  </thead>\n  <tbody>\n    <tr>\n      <th>0</th>\n      <td>1648773491010</td>\n      <td>0.2860</td>\n      <td>-0.9614</td>\n      <td>0.0677</td>\n      <td>0.48</td>\n      <td>2.19</td>\n      <td>-1.15</td>\n      <td>0.2462</td>\n      <td>0.9674</td>\n      <td>0.0539</td>\n      <td>0.24</td>\n      <td>1.89</td>\n      <td>-0.06</td>\n      <td>None</td>\n    </tr>\n    <tr>\n      <th>1</th>\n      <td>1648773491040</td>\n      <td>0.2866</td>\n      <td>-0.9605</td>\n      <td>0.0683</td>\n      <td>0.36</td>\n      <td>1.89</td>\n      <td>-0.97</td>\n      <td>0.2403</td>\n      <td>0.9699</td>\n      <td>0.0540</td>\n      <td>0.12</td>\n      <td>2.01</td>\n      <td>-0.18</td>\n      <td>None</td>\n    </tr>\n  </tbody>\n</table>\n</div>"
     },
     "execution_count": 50,
     "metadata": {},
     "output_type": "execute_result"
    }
   ],
   "source": [
    "allIMU.head(2)"
   ],
   "metadata": {
    "collapsed": false,
    "ExecuteTime": {
     "end_time": "2024-05-01T15:15:23.496101Z",
     "start_time": "2024-05-01T15:15:23.471210400Z"
    }
   },
   "id": "207dfa7467bd0d54",
   "execution_count": 50
  },
  {
   "cell_type": "code",
   "outputs": [],
   "source": [
    "output_path = r'left_right_IMU_%s_%s.npy'%(user, scenario)\n",
    "with open(output_path, 'wb') as f:\n",
    "    np.save(f, allIMU)"
   ],
   "metadata": {
    "collapsed": false,
    "ExecuteTime": {
     "end_time": "2024-05-01T15:15:23.617562Z",
     "start_time": "2024-05-01T15:15:23.498091800Z"
    }
   },
   "id": "38ee746fd94fbbbf",
   "execution_count": 51
  },
  {
   "cell_type": "code",
   "outputs": [],
   "source": [],
   "metadata": {
    "collapsed": false,
    "ExecuteTime": {
     "end_time": "2024-05-01T15:12:42.412060300Z",
     "start_time": "2024-05-01T15:12:42.389161100Z"
    }
   },
   "id": "cd70f2bff156c473",
   "execution_count": 27
  },
  {
   "cell_type": "code",
   "outputs": [],
   "source": [],
   "metadata": {
    "collapsed": false
   },
   "id": "fd0e65277f9574f5"
  }
 ],
 "metadata": {
  "kernelspec": {
   "display_name": "Python 3",
   "language": "python",
   "name": "python3"
  },
  "language_info": {
   "codemirror_mode": {
    "name": "ipython",
    "version": 2
   },
   "file_extension": ".py",
   "mimetype": "text/x-python",
   "name": "python",
   "nbconvert_exporter": "python",
   "pygments_lexer": "ipython2",
   "version": "2.7.6"
  }
 },
 "nbformat": 4,
 "nbformat_minor": 5
}
