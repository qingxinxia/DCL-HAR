{
 "cells": [
  {
   "cell_type": "code",
   "outputs": [],
   "source": [
    "import numpy as np\n",
    "import os\n"
   ],
   "metadata": {
    "collapsed": false,
    "ExecuteTime": {
     "end_time": "2024-05-03T13:47:17.961186600Z",
     "start_time": "2024-05-03T13:47:17.796795200Z"
    }
   },
   "id": "ec3fe817ff61843e",
   "execution_count": 1
  },
  {
   "cell_type": "code",
   "outputs": [],
   "source": [
    "path_pred = r'D:\\code\\DeepConvLSTM-Pytorch\\prediction_result\\DCL_openpack_test_U0201_epoch_3000\\predlabels_seg.npy'\n",
    "path_truth = r'D:\\code\\DeepConvLSTM-Pytorch\\prediction_result\\DCL_openpack_test_U0201_epoch_3000\\GTlabels_seg.npy'\n",
    "\n",
    "with open(path_pred, 'rb') as f:\n",
    "    preddata = np.load(f)\n",
    "with open(path_truth, 'rb') as f:\n",
    "    truthdata = np.load(f)\n"
   ],
   "metadata": {
    "collapsed": false,
    "ExecuteTime": {
     "end_time": "2024-05-03T13:49:27.332640Z",
     "start_time": "2024-05-03T13:49:27.258302200Z"
    }
   },
   "id": "62fd641079f7dd3e",
   "execution_count": 2
  },
  {
   "cell_type": "code",
   "outputs": [
    {
     "data": {
      "text/plain": "(1024, 60)"
     },
     "execution_count": 4,
     "metadata": {},
     "output_type": "execute_result"
    }
   ],
   "source": [
    "preddata.shape"
   ],
   "metadata": {
    "collapsed": false,
    "ExecuteTime": {
     "end_time": "2024-05-03T13:49:38.648544400Z",
     "start_time": "2024-05-03T13:49:38.612763900Z"
    }
   },
   "id": "442ec84efba9d01",
   "execution_count": 4
  },
  {
   "cell_type": "code",
   "outputs": [
    {
     "data": {
      "text/plain": "(1024, 60)"
     },
     "execution_count": 5,
     "metadata": {},
     "output_type": "execute_result"
    }
   ],
   "source": [
    "truthdata.shape"
   ],
   "metadata": {
    "collapsed": false,
    "ExecuteTime": {
     "end_time": "2024-05-03T13:49:51.565170400Z",
     "start_time": "2024-05-03T13:49:51.542257200Z"
    }
   },
   "id": "b0a88ab7d5bc4096",
   "execution_count": 5
  },
  {
   "cell_type": "code",
   "outputs": [
    {
     "data": {
      "text/plain": "253"
     },
     "execution_count": 6,
     "metadata": {},
     "output_type": "execute_result"
    }
   ],
   "source": [
    "sum(preddata[:,0]==truthdata[:,0])"
   ],
   "metadata": {
    "collapsed": false,
    "ExecuteTime": {
     "end_time": "2024-05-03T14:00:48.915438700Z",
     "start_time": "2024-05-03T14:00:48.890547600Z"
    }
   },
   "id": "e22bc06eb10ad011",
   "execution_count": 6
  },
  {
   "cell_type": "code",
   "outputs": [],
   "source": [],
   "metadata": {
    "collapsed": false
   },
   "id": "4e686296f6f1caee"
  }
 ],
 "metadata": {
  "kernelspec": {
   "display_name": "Python 3",
   "language": "python",
   "name": "python3"
  },
  "language_info": {
   "codemirror_mode": {
    "name": "ipython",
    "version": 2
   },
   "file_extension": ".py",
   "mimetype": "text/x-python",
   "name": "python",
   "nbconvert_exporter": "python",
   "pygments_lexer": "ipython2",
   "version": "2.7.6"
  }
 },
 "nbformat": 4,
 "nbformat_minor": 5
}
